{
 "cells": [
  {
   "cell_type": "code",
   "execution_count": 1,
   "id": "9d1205c1-d0ab-4030-9e4b-8b6781a96cfc",
   "metadata": {},
   "outputs": [
    {
     "name": "stdout",
     "output_type": "stream",
     "text": [
      " * Serving Flask app '__main__'\n",
      " * Debug mode: on\n"
     ]
    },
    {
     "name": "stderr",
     "output_type": "stream",
     "text": [
      "WARNING: This is a development server. Do not use it in a production deployment. Use a production WSGI server instead.\n",
      " * Running on http://127.0.0.1:8000\n",
      "Press CTRL+C to quit\n",
      " * Restarting with watchdog (windowsapi)\n"
     ]
    },
    {
     "ename": "SystemExit",
     "evalue": "1",
     "output_type": "error",
     "traceback": [
      "An exception has occurred, use %tb to see the full traceback.\n",
      "\u001b[1;31mSystemExit\u001b[0m\u001b[1;31m:\u001b[0m 1\n"
     ]
    },
    {
     "name": "stderr",
     "output_type": "stream",
     "text": [
      "c:\\Users\\Harshith GR\\anaconda3\\Lib\\site-packages\\IPython\\core\\interactiveshell.py:3561: UserWarning: To exit: use 'exit', 'quit', or Ctrl-D.\n",
      "  warn(\"To exit: use 'exit', 'quit', or Ctrl-D.\", stacklevel=1)\n"
     ]
    }
   ],
   "source": [
    "from flask import Flask, render_template, request\n",
    "import pickle\n",
    "import pandas as pd\n",
    "\n",
    "app = Flask(__name__)\n",
    "\n",
    "@app.route('/')\n",
    "def home():\n",
    "    return render_template('index.html')\n",
    "\n",
    "@ app.route('/predict', methods=['POST'])\n",
    "def predict():\n",
    "    if request.method == 'POST':\n",
    "        batting_team = request.form['batting_team']\n",
    "        bowling_team = request.form['bowling_team']\n",
    "        selected_city = request.form['selected_city']\n",
    "        target = int(request.form['target'])\n",
    "        score = int(request.form['score'])\n",
    "        balls_left = int(request.form['balls_left'])  # Update this line\n",
    "        wickets = int(request.form['wickets'])\n",
    "\n",
    "        runs_left = target - score\n",
    "        wickets_remaining = 10 - wickets\n",
    "        overs_completed = (120 - balls_left) / 6  # Calculate overs_completed from balls_left\n",
    "        crr = score / overs_completed\n",
    "        rrr = runs_left / (balls_left / 6)\n",
    "\n",
    "        input_data = pd.DataFrame({\n",
    "            'batting_team': [batting_team],\n",
    "            'bowling_team': [bowling_team],\n",
    "            'city': [selected_city],\n",
    "            'runs_left': [runs_left],\n",
    "            'balls_left': [balls_left],\n",
    "            'wickets_remaining': [wickets_remaining],\n",
    "            'total_run_x': [target],\n",
    "            'crr': [crr],\n",
    "            'rrr': [rrr]\n",
    "        })\n",
    "\n",
    "        pipe = pickle.load(open('ra_pipe.pkl', 'rb'))\n",
    "        result = pipe.predict_proba(input_data)\n",
    "\n",
    "        win_probability = round(result[0][1] * 100)\n",
    "        loss_probability = round(result[0][0] * 100)\n",
    "\n",
    "        return render_template('result.html', batting_team=batting_team, bowling_team=bowling_team, win_probability=win_probability, loss_probability=loss_probability)\n",
    "\n",
    "\n",
    "if __name__ == '__main__':\n",
    "   app.run(debug=True, port=8000)\n"
   ]
  },
  {
   "cell_type": "code",
   "execution_count": null,
   "id": "95cf2f2e-37a8-4afe-a9f3-0827ffa33d08",
   "metadata": {},
   "outputs": [
    {
     "name": "stdout",
     "output_type": "stream",
     "text": [
      " * Serving Flask app '__main__'\n",
      " * Debug mode: on\n"
     ]
    },
    {
     "name": "stderr",
     "output_type": "stream",
     "text": [
      "WARNING: This is a development server. Do not use it in a production deployment. Use a production WSGI server instead.\n",
      " * Running on http://127.0.0.1:8000\n",
      "Press CTRL+C to quit\n",
      " * Restarting with watchdog (windowsapi)\n"
     ]
    },
    {
     "ename": "SystemExit",
     "evalue": "1",
     "output_type": "error",
     "traceback": [
      "An exception has occurred, use %tb to see the full traceback.\n",
      "\u001b[1;31mSystemExit\u001b[0m\u001b[1;31m:\u001b[0m 1\n"
     ]
    }
   ],
   "source": [
    "\n"
   ]
  },
  {
   "cell_type": "code",
   "execution_count": null,
   "id": "49481197-301b-48c7-a2bd-4c8c6094bc9f",
   "metadata": {},
   "outputs": [],
   "source": []
  }
 ],
 "metadata": {
  "kernelspec": {
   "display_name": "Python 3 (ipykernel)",
   "language": "python",
   "name": "python3"
  },
  "language_info": {
   "codemirror_mode": {
    "name": "ipython",
    "version": 3
   },
   "file_extension": ".py",
   "mimetype": "text/x-python",
   "name": "python",
   "nbconvert_exporter": "python",
   "pygments_lexer": "ipython3",
   "version": "3.11.7"
  }
 },
 "nbformat": 4,
 "nbformat_minor": 5
}
